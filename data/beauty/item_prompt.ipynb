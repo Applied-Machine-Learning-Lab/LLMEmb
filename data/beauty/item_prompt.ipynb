{
 "cells": [
  {
   "cell_type": "code",
   "execution_count": null,
   "metadata": {},
   "outputs": [],
   "source": [
    "import os\n",
    "import pickle\n",
    "import jsonlines\n",
    "import pandas as pd\n",
    "import numpy as np\n",
    "import json\n",
    "import copy\n",
    "from tqdm import tqdm"
   ]
  },
  {
   "cell_type": "code",
   "execution_count": null,
   "metadata": {},
   "outputs": [],
   "source": [
    "data = json.load(open(\"./handled/item2attributes.json\", \"r\"))"
   ]
  },
  {
   "cell_type": "code",
   "execution_count": null,
   "metadata": {},
   "outputs": [],
   "source": [
    "example_dict = {}\n",
    "for item_dict in tqdm(data.values()):\n",
    "    example_dict.update(item_dict)"
   ]
  },
  {
   "cell_type": "code",
   "execution_count": null,
   "metadata": {},
   "outputs": [],
   "source": [
    "example_dict[\"salesRank\"]"
   ]
  },
  {
   "cell_type": "code",
   "execution_count": null,
   "metadata": {},
   "outputs": [],
   "source": [
    "example_dict.keys()"
   ]
  },
  {
   "attachments": {},
   "cell_type": "markdown",
   "metadata": {},
   "source": [
    "asin: item的标识符，直接去掉\n",
    "\n",
    "related: 去掉\n",
    "\n",
    "imUrl: 去掉\n",
    "\n",
    "salesRank: 去掉\n",
    "\n",
    "categories: 列表的列表\n",
    "\n",
    "description: 物品描述，是字符串。要控制长度。\n",
    "\n",
    "title, brand, price直接使用"
   ]
  },
  {
   "cell_type": "code",
   "execution_count": null,
   "metadata": {},
   "outputs": [],
   "source": [
    "instruction = \"The beauty item has the following attributes: \\n \""
   ]
  },
  {
   "cell_type": "code",
   "execution_count": null,
   "metadata": {},
   "outputs": [],
   "source": [
    "item_data = {}\n",
    "for item_dict in tqdm(data.values()):\n",
    "    item_prompt = copy.deepcopy(instruction)\n",
    "    item_id = None\n",
    "    for key, value in item_dict.items():\n",
    "        if key in [\"related\", \"imUrl\", \"salesRank\"]:   # drop longitude and latitude\n",
    "            continue\n",
    "        elif key in [\"asin\"]:  # get the item id\n",
    "            item_id = value\n",
    "        elif key in [\"categories\"]:    # list type attributes\n",
    "            attri_str = \"\"\n",
    "            for meta_str in value[0]:\n",
    "                attri_str += (meta_str + \", \")\n",
    "            if len(value) == 0:\n",
    "                attri_str = \"none, \"\n",
    "            attri_str = attri_str.replace(\"\\n\", \" \").replace(\";\", \".\")\n",
    "            if len(attri_str) > 100:\n",
    "                attri_str = attri_str[:100]\n",
    "            attri_prompt = key + \" is \" + attri_str[:-2] + \"; \"    # [:-2] is to remove the last \", \"\n",
    "            item_prompt += attri_prompt\n",
    "        else:   # str type attributes \n",
    "            if len(str(value)) > 100:\n",
    "                value = value[:100]\n",
    "            attri_prompt = key + \" is \" + str(value).replace(\"\\n\", \" \").replace(\";\", \".\") + \"; \"\n",
    "            item_prompt += attri_prompt\n",
    "    if item_id:\n",
    "        item_data[item_id] = item_prompt[:-2]\n",
    "    else:\n",
    "        raise ValueError(\"No item id\")"
   ]
  },
  {
   "cell_type": "code",
   "execution_count": null,
   "metadata": {},
   "outputs": [],
   "source": [
    "json.dump(item_data, open(\"./handled/item_str_0722.json\", \"w\"))"
   ]
  },
  {
   "cell_type": "code",
   "execution_count": null,
   "metadata": {},
   "outputs": [],
   "source": [
    "# convert to jsonline\n",
    "def save_data(data_path, data):\n",
    "    '''write all_data list to a new jsonl'''\n",
    "    with jsonlines.open(\"./handled/\"+ data_path, \"w\") as w:\n",
    "        for meta_data in data:\n",
    "            w.write(meta_data)\n",
    "\n",
    "id_map = json.load(open(\"./handled/id_map.json\", \"r\"))[\"item2id\"]\n",
    "json_data = []\n",
    "for key, value in item_data.items():\n",
    "    json_data.append({\"input\": value, \"target\": \"\", \"item\": key, \"item_id\": id_map[key]})\n",
    "\n",
    "save_data(\"item_str_0722.jsonline\", json_data)"
   ]
  },
  {
   "cell_type": "code",
   "execution_count": null,
   "metadata": {},
   "outputs": [],
   "source": []
  }
 ],
 "metadata": {
  "kernelspec": {
   "display_name": "llm",
   "language": "python",
   "name": "python3"
  },
  "language_info": {
   "codemirror_mode": {
    "name": "ipython",
    "version": 3
   },
   "file_extension": ".py",
   "mimetype": "text/x-python",
   "name": "python",
   "nbconvert_exporter": "python",
   "pygments_lexer": "ipython3",
   "version": "3.9.5"
  },
  "orig_nbformat": 4
 },
 "nbformat": 4,
 "nbformat_minor": 2
}
