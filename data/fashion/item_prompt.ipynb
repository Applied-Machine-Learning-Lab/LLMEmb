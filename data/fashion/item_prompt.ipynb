{
 "cells": [
  {
   "cell_type": "code",
   "execution_count": null,
   "metadata": {},
   "outputs": [],
   "source": [
    "import os\n",
    "import pickle\n",
    "import jsonlines\n",
    "import pandas as pd\n",
    "import numpy as np\n",
    "import json\n",
    "import copy\n",
    "from tqdm import tqdm"
   ]
  },
  {
   "cell_type": "code",
   "execution_count": null,
   "metadata": {},
   "outputs": [],
   "source": [
    "data = json.load(open(\"./handled/item2attributes.json\", \"r\"))"
   ]
  },
  {
   "cell_type": "code",
   "execution_count": null,
   "metadata": {},
   "outputs": [],
   "source": [
    "example_dict = {}\n",
    "for item_dict in tqdm(data.values()):\n",
    "    example_dict.update(item_dict)"
   ]
  },
  {
   "cell_type": "code",
   "execution_count": null,
   "metadata": {},
   "outputs": [],
   "source": [
    "example_dict[\"details\"]"
   ]
  },
  {
   "cell_type": "code",
   "execution_count": null,
   "metadata": {},
   "outputs": [],
   "source": [
    "example_dict.keys()"
   ]
  },
  {
   "attachments": {},
   "cell_type": "markdown",
   "metadata": {},
   "source": [
    "rank: \"106,074inClothing,Shoesamp;Jewelry(\" 我觉得使用in把字符串分开，然后只用排名数字\n",
    "\n",
    "date: 实际上是打分\n",
    "\n",
    "asin: item的标识符，直接去掉\n",
    "\n",
    "description: 物品描述，是一个列表。要控制长度。建议只使用列表中第一个\n",
    "\n",
    "fit: 去掉\n",
    "\n",
    "also_buy: 去掉\n",
    "\n",
    "feature: 也是一个列表。拼接起来，但要注意长度\n",
    "\n",
    "also_view: 去掉\n",
    "\n",
    "similar_item: 去掉\n",
    "\n",
    "tech1: 也是一个列表，类似于feature。也需要拼接起来，但要注意长度。\n",
    "\n",
    "title, brand, price, details直接使用"
   ]
  },
  {
   "cell_type": "code",
   "execution_count": null,
   "metadata": {},
   "outputs": [],
   "source": [
    "instruction = \"The fashion item has the following attributes: \\n \""
   ]
  },
  {
   "cell_type": "code",
   "execution_count": null,
   "metadata": {},
   "outputs": [],
   "source": [
    "item_data = {}\n",
    "for item_dict in tqdm(data.values()):\n",
    "    item_prompt = copy.deepcopy(instruction)\n",
    "    item_id = None\n",
    "    for key, value in item_dict.items():\n",
    "        if key in [\"fit\", \"also_buy\", \"also_view\", \"similar_item\", \"imageURL\", \"imageURLHighRes\"]:   # drop longitude and latitude\n",
    "            continue\n",
    "        elif key in [\"asin\"]:  # get the item id\n",
    "            item_id = value\n",
    "        elif key in [\"description\", \"feature\", \"tech1\"]:    # list type attributes\n",
    "            attri_str = \"\"\n",
    "            for meta_str in value:\n",
    "                attri_str += (meta_str + \", \")\n",
    "            if len(value) == 0:\n",
    "                attri_str = \"none, \"\n",
    "            attri_str = attri_str.replace(\"\\n\", \" \").replace(\";\", \".\")\n",
    "            if len(attri_str) > 100:\n",
    "                attri_str = attri_str[:100]\n",
    "            attri_prompt = key + \" is \" + attri_str[:-2] + \"; \"    # [:-2] is to remove the last \", \"\n",
    "            item_prompt += attri_prompt\n",
    "        else:   # str type attributes \n",
    "            if len(value) > 100:\n",
    "                value = value[:100]\n",
    "            attri_prompt = key + \" is \" + str(value).replace(\"\\n\", \" \").replace(\";\", \".\") + \"; \"\n",
    "            item_prompt += attri_prompt\n",
    "    if item_id:\n",
    "        item_data[item_id] = item_prompt[:-2]\n",
    "    else:\n",
    "        raise ValueError(\"No item id\")"
   ]
  },
  {
   "cell_type": "code",
   "execution_count": null,
   "metadata": {},
   "outputs": [],
   "source": [
    "json.dump(item_data, open(\"./handled/item_str_0722.json\", \"w\"))"
   ]
  },
  {
   "cell_type": "code",
   "execution_count": null,
   "metadata": {},
   "outputs": [],
   "source": [
    "# convert to jsonline\n",
    "def save_data(data_path, data):\n",
    "    '''write all_data list to a new jsonl'''\n",
    "    with jsonlines.open(\"./handled/\"+ data_path, \"w\") as w:\n",
    "        for meta_data in data:\n",
    "            w.write(meta_data)\n",
    "\n",
    "id_map = json.load(open(\"./handled/id_map.json\", \"r\"))[\"item2id\"]\n",
    "json_data = []\n",
    "for key, value in item_data.items():\n",
    "    json_data.append({\"input\": value, \"target\": \"\", \"item\": key, \"item_id\": id_map[key]})\n",
    "\n",
    "save_data(\"item_str_0722.jsonline\", json_data)"
   ]
  },
  {
   "cell_type": "code",
   "execution_count": null,
   "metadata": {},
   "outputs": [],
   "source": []
  }
 ],
 "metadata": {
  "kernelspec": {
   "display_name": "llm",
   "language": "python",
   "name": "python3"
  },
  "language_info": {
   "codemirror_mode": {
    "name": "ipython",
    "version": 3
   },
   "file_extension": ".py",
   "mimetype": "text/x-python",
   "name": "python",
   "nbconvert_exporter": "python",
   "pygments_lexer": "ipython3",
   "version": "3.9.5"
  },
  "orig_nbformat": 4
 },
 "nbformat": 4,
 "nbformat_minor": 2
}
